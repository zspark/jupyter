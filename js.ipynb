{
 "cells": [
  {
   "cell_type": "code",
   "execution_count": 8,
   "id": "80b2fa26-8b61-4df4-9db7-4efe349a0f5b",
   "metadata": {},
   "outputs": [
    {
     "name": "stdout",
     "output_type": "stream",
     "text": [
      "1 2 abc\n",
      "1\n",
      "abc\n",
      "3\n",
      "4\n"
     ]
    }
   ],
   "source": [
    "function print(...args){\n",
    "    console.log(...args);\n",
    "}\n",
    "print(1,2,\"abc\")\n",
    "\n",
    "arr=[1,\"abc\",3,4];\n",
    "for(let k of arr){\n",
    "    console.log(k);\n",
    "}"
   ]
  },
  {
   "cell_type": "code",
   "execution_count": 2,
   "id": "aa408fd5-f448-41f3-b797-ac3fc5c36d9e",
   "metadata": {
    "editable": true,
    "slideshow": {
     "slide_type": ""
    },
    "tags": []
   },
   "outputs": [
    {
     "name": "stdout",
     "output_type": "stream",
     "text": [
      "Fibonacci Series:3\n",
      "0\n",
      "1\n",
      "1\n",
      "2\n",
      "3\n",
      "5\n",
      "8\n",
      "13\n",
      "21\n",
      "34\n",
      "55\n",
      "89\n",
      "144\n",
      "233\n",
      "377\n",
      "610\n",
      "987\n",
      "1597\n",
      "2584\n",
      "4181\n"
     ]
    },
    {
     "data": {
      "text/plain": [
       "10946"
      ]
     },
     "execution_count": 2,
     "metadata": {},
     "output_type": "execute_result"
    }
   ],
   "source": [
    "// program to generate fibonacci series up to n terms\n",
    "\n",
    " N = 20;\n",
    " n1 = 0, n2 = 1, nextTerm=0;\n",
    "\n",
    "console.log('Fibonacci Series:3');\n",
    "\n",
    "for (let i = 1; i <= N; i++) {\n",
    "    console.log(n1);\n",
    "    nextTerm = n1 + n2;\n",
    "    n1 = n2;\n",
    "    n2 = nextTerm;\n",
    "}\n"
   ]
  },
  {
   "cell_type": "markdown",
   "id": "af45964f-ae8d-4577-865f-be7145515263",
   "metadata": {},
   "source": [
    "$$\n",
    "M_{ortho}= \\begin{bmatrix} \\frac {2}{right-left}&0&0&-\\frac{left+right}{right-left}\\\\\\ 0&\\frac {2}{top-bottom}&0&-\\frac {bottom+top}{top-bottom}\\\\\\ 0&0&-\\frac {2}{far-near}&-\\frac{near+far}{far-near}\\\\\\ 0&0&0&1 \\end{bmatrix}\n",
    "$$\n"
   ]
  },
  {
   "cell_type": "markdown",
   "id": "f12084cc-e586-472e-befa-7693c08543f2",
   "metadata": {},
   "source": [
    "$$\n",
    "M_{pers}=M_{ortho}N_3= \\begin{bmatrix} \n",
    "\\frac {2}{right-left},0,0,-\\frac{left+right}{right-left}\\\\\\ \n",
    "0,\\frac {2}{top-bottom},0,-\\frac {bottom+top}{top-bottom}\\\\\\ \n",
    "0,0,-\\frac {2}{far-near},-\\frac{near+far}{far-near}\\\\\\ \n",
    "0,0,0,1 \n",
    "\\end{bmatrix} \\times \n",
    "\\begin{bmatrix} \n",
    "near,0,0,0\\\\\\ \n",
    "0,near,0,0\\\\\\ \n",
    "0,0,n+f,nf\\\\\\ \n",
    "0,0,-1,0 \n",
    "\\end{bmatrix} \n",
    "$$\n",
    "\n",
    "$$\n",
    "M_{pers}= \\begin{bmatrix} \n",
    "\\frac {2near}{right-left}&0&\\frac{left+right}{right-left}&0\\\\\\ \n",
    "0&\\frac {2near}{top-bottom}&-\\frac {bottom+top}{top-bottom}&0\\\\\\ \n",
    "0&0&\\frac {-(near+far)}{far-near}&\\frac {-2near*far}{far-near}\\\\\\ \n",
    "0&0&-1&0 \n",
    "\\end{bmatrix}\n",
    "$$"
   ]
  },
  {
   "cell_type": "code",
   "execution_count": 8,
   "id": "458cd699-8c1d-4d00-85f4-75c356ff26b7",
   "metadata": {},
   "outputs": [
    {
     "name": "stdout",
     "output_type": "stream",
     "text": [
      "831.7464538687851\n"
     ]
    }
   ],
   "source": [
    "a=Math.pow(2,0.7);\n",
    "print(a*512)"
   ]
  }
 ],
 "metadata": {
  "kernelspec": {
   "display_name": "JavaScript (Node.js)",
   "language": "javascript",
   "name": "javascript"
  },
  "language_info": {
   "file_extension": ".js",
   "mimetype": "application/javascript",
   "name": "javascript",
   "version": "18.17.0"
  }
 },
 "nbformat": 4,
 "nbformat_minor": 5
}
