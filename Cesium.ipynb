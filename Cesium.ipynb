{
 "cells": [
  {
   "cell_type": "markdown",
   "id": "f396af53-183f-487b-a230-320358ddc871",
   "metadata": {},
   "source": [
    "# Globe\n",
    "\n",
    "see: Globe.js file in Cesium source code."
   ]
  },
  {
   "cell_type": "markdown",
   "id": "0be861b4-3856-4b4c-b7a0-f4ac0ce9b4b1",
   "metadata": {},
   "source": [
    "# CesiumTerrainProvider\n",
    "\n",
    "`::requestTileGeometry(x, y, level, request)` this func. first fetch raw terrain data(float32Array of its type) from server, then create `HeightmapTerrainData` instance the moment promise fulfilled. Pseudo code looks like:\n",
    "\n",
    "```js\n",
    "function requestTileGeometry(...){\n",
    "    const promise = new Promise((...)=>{\n",
    "        // load terrain data from server.\n",
    "    });\n",
    "    return promise.then(function (buffer) {\n",
    "        return createHeightmapTerrainData(provider, buffer, level, x, y);\n",
    "    });\n",
    "}\n",
    "```\n",
    "\n",
    "I think we may use `CustomHeightmapTerrainProvider` to provider a better control under terrain data. `ArcGISTiledElevationTerrainProvider` is also a good choose."
   ]
  },
  {
   "cell_type": "markdown",
   "id": "1513b67c-c56f-4458-8205-fe7c8d59042d",
   "metadata": {},
   "source": [
    "# GlobeSurfaceTileProvider / GlobeSurfaceTile\n",
    "\n",
    "Class `GlobeSurfaceTileProvider` produces `GlobeSurfaceTile` instance, this instance then call `CesiumTerrainProvider::requestTileGeometry(...)` to try to get terrain data (instance of `HeightmapTerrainData`), and mount to a variable called `terrainData`.\n",
    "\n",
    "At some point, e.g. need to be rendered on screen, `GlobeSurfaceTile` then call `::transform()` to gen a `TerrainMesh` instance from previously mounted `terrainData`. And as u figured out that this instance then also mounted onto `GlobeSurfaceTile` with a name called `mesh`.\n",
    "\n",
    "finally, `GlobeSurfaceTile` has at least two member variables, which are:\n",
    "* `terrainData` of type `HeightmapTerrainData`;\n",
    "* `mesh` of type `TerrainMesh`;\n",
    "\n",
    "Pseudo code looks like:\n",
    "\n",
    "```js\n",
    "let _tile = new GlobeSurfaceTile(...);\n",
    "_provider.requestTileGeometry(...).then(data =>{\n",
    "    _tile.terrainData = data; /// instance of HeightmapTerrainData;\n",
    "});\n",
    "\n",
    "/// if need further process.\n",
    "_tile.transform();\n",
    "\n",
    "function transform(){\n",
    "    // ...\n",
    "    _tile.terrainData.createMesh().then(mesh => {\n",
    "        _tile.mesh = mesh;\n",
    "    });\n",
    "}\n",
    "```"
   ]
  },
  {
   "cell_type": "markdown",
   "id": "2fedba44-0914-4441-8541-3a4ea3331a21",
   "metadata": {},
   "source": [
    "# QuadtreePrimitive\n",
    "\n",
    "this class possesses the root tile and a reference to `GlobeSurfaceTileProvider`, at the correct time, provider gen `GlobeSurfaceTile` and mount to tile.data.\n",
    "\n",
    "**NOTICE**\n",
    "\n",
    "Do not be confused by `tile`, there are at least 2 tiles, one is `GlobeSufraceTile`, and another one is `QuadtreeTile`. `QuadtreePrimitive` possesses the root tile which is `QuadtreeTile` not the one that instantiated from `GlobeSurfaceTile`.\n",
    "\n",
    "```js\n",
    "/// ::render(frameState) function.\n",
    "if (passes.render) {\n",
    "    tileProvider.beginUpdate(frameState);\n",
    "\n",
    "    const tilesToRender = selectTilesForRendering(this, frameState);\n",
    "    for (let i = 0, len = tilesToRender.length; i < len; ++i) {\n",
    "        const tile = tilesToRender[i];\n",
    "        tileProvider.showTileThisFrame(tile, frameState);\n",
    "    }\n",
    "\n",
    "    tileProvider.endUpdate(frameState);\n",
    "}\n",
    "// ...\n",
    "```"
   ]
  },
  {
   "cell_type": "markdown",
   "id": "7d0a336c-14bd-4d51-a54b-63ce48f6f78e",
   "metadata": {},
   "source": [
    "# ImagerLayer\n",
    "\n",
    "This's a class that handles a set of same origin imageries. Different imagery provider offers different piece of imagy. Firstly, this class get raw imagery data from Internet through `ImageryProvider`, and then parse into a instance of class `Imagery`."
   ]
  }
 ],
 "metadata": {
  "kernelspec": {
   "display_name": "Python 3 (ipykernel)",
   "language": "python",
   "name": "python3"
  },
  "language_info": {
   "codemirror_mode": {
    "name": "ipython",
    "version": 3
   },
   "file_extension": ".py",
   "mimetype": "text/x-python",
   "name": "python",
   "nbconvert_exporter": "python",
   "pygments_lexer": "ipython3",
   "version": "3.12.2"
  }
 },
 "nbformat": 4,
 "nbformat_minor": 5
}
