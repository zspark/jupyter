{
 "cells": [
  {
   "cell_type": "markdown",
   "id": "5f841209-dd23-45f7-b451-9ada7cb3758e",
   "metadata": {},
   "source": [
    "# mapbox terrain decoding"
   ]
  },
  {
   "cell_type": "code",
   "execution_count": 19,
   "id": "57a1d98c-ac02-47fd-92e2-c6f5fa5be2bb",
   "metadata": {},
   "outputs": [
    {
     "name": "stdout",
     "output_type": "stream",
     "text": [
      "mapbox: 0.0\n",
      "mapbox: 608.2000000000007\n",
      "terrarium: -32377.375\n"
     ]
    }
   ],
   "source": [
    "import math\n",
    "\n",
    "color=[1,134,160,255];\n",
    "\n",
    "def mapboxDecode(c):\n",
    "    return -10000+((c[0]*256*256+c[1]*256+c[2])*.1);\n",
    "\n",
    "def terrariumDecode(c):\n",
    "    return (c[0]*256+c[1]+c[2]/256)-32768 # 32768 == 2 to 15 power\n",
    "\n",
    "\n",
    "\n",
    "print(\"mapbox:\", mapboxDecode(color))\n",
    "print(\"mapbox:\", mapboxDecode([1,158,98,255]))\n",
    "print(\"terrarium:\", terrariumDecode(color))\n",
    "    "
   ]
  }
 ],
 "metadata": {
  "kernelspec": {
   "display_name": "Python 3 (ipykernel)",
   "language": "python",
   "name": "python3"
  },
  "language_info": {
   "codemirror_mode": {
    "name": "ipython",
    "version": 3
   },
   "file_extension": ".py",
   "mimetype": "text/x-python",
   "name": "python",
   "nbconvert_exporter": "python",
   "pygments_lexer": "ipython3",
   "version": "3.12.2"
  }
 },
 "nbformat": 4,
 "nbformat_minor": 5
}
