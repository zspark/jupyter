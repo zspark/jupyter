{
 "cells": [
  {
   "cell_type": "markdown",
   "id": "49f96afc-38f3-4529-b612-b2b981ef505a",
   "metadata": {},
   "source": [
    "# What can Python do?\n",
    "\n",
    "* Python can be used on a server to create web applications.\n",
    "* Python can be used alongside software to create workflows.\n",
    "* Python can connect to database systems. It can also read and modify files.\n",
    "* Python can be used to handle big data and perform complex mathematics.\n",
    "* Python can be used for rapid prototyping, or for production-ready software development."
   ]
  },
  {
   "cell_type": "code",
   "execution_count": 1,
   "id": "036585cd-122d-4f43-91f6-7abbd98bced6",
   "metadata": {},
   "outputs": [
    {
     "name": "stdout",
     "output_type": "stream",
     "text": [
      "3.12.2 (tags/v3.12.2:6abddd9, Feb  6 2024, 21:26:36) [MSC v.1937 64 bit (AMD64)]\n",
      "fuck\n"
     ]
    }
   ],
   "source": [
    "import sys\n",
    "\n",
    "print(sys.version)\n",
    "print('fuck')"
   ]
  },
  {
   "cell_type": "markdown",
   "id": "3f62169a-2579-4df0-99a3-a97c1945477c",
   "metadata": {},
   "source": [
    "* Python Indentation\n",
    "* Indentation refers to the spaces at the beginning of a code line.\n",
    "* Where in other programming languages the indentation in code is for readability only, the indentation in Python is very important.\n",
    "* Python uses indentation to indicate a block of code."
   ]
  },
  {
   "cell_type": "code",
   "execution_count": 1,
   "id": "be980ec4-6f45-4673-9d01-8db5c5c860da",
   "metadata": {},
   "outputs": [
    {
     "name": "stdout",
     "output_type": "stream",
     "text": [
      "Five is greater than two!\n",
      "Five is greater than two!\n"
     ]
    }
   ],
   "source": [
    "# You have to use the same number of spaces in the same block of code, otherwise Python will give you an error:\n",
    "\n",
    "if 5 > 2:\n",
    "    print(\"Five is greater than two!\")\n",
    "print(\"Five is greater than two!\")"
   ]
  },
  {
   "cell_type": "code",
   "execution_count": 16,
   "id": "7599dd36-c064-48ac-87ac-fdb5ed8d5935",
   "metadata": {},
   "outputs": [
    {
     "name": "stdout",
     "output_type": "stream",
     "text": [
      "3 3 3.0\n",
      "<class 'str'> <class 'int'> <class 'float'>\n"
     ]
    }
   ],
   "source": [
    "# If you want to specify the data type of a variable, this can be done with casting.\n",
    "\n",
    "x = str(3)    # x will be '3'\n",
    "y = int(3)    # y will be 3\n",
    "z = float(3)  # z will be 3.0\n",
    "print(x,y,z);\n",
    "print(type(x),type(y),type(z));"
   ]
  },
  {
   "cell_type": "code",
   "execution_count": 2,
   "id": "bfda4a0b-8b38-45d7-80e8-3003f17bb01c",
   "metadata": {},
   "outputs": [
    {
     "name": "stdout",
     "output_type": "stream",
     "text": [
      "Orange Banana Cherry\n",
      "Orange Orange Orange\n",
      "apple banana cherry\n"
     ]
    }
   ],
   "source": [
    "# Python allows you to assign values to multiple variables in one line:\n",
    "x, y, z = \"Orange\", \"Banana\", \"Cherry\"\n",
    "print(x,y,z);\n",
    "\n",
    "x = y = z = \"Orange\"\n",
    "print(x,y,z)\n",
    "\n",
    "# If you have a collection of values in a list, tuple etc. Python allows you to extract the values into variables. This is called `unpacking`.\n",
    "fruits = [\"apple\", \"banana\", \"cherry\"]\n",
    "x, y, z = fruits\n",
    "print(x,y,z)"
   ]
  },
  {
   "cell_type": "code",
   "execution_count": 22,
   "id": "c690424e-9879-4f7f-82c9-accdf255e6a7",
   "metadata": {},
   "outputs": [
    {
     "name": "stdout",
     "output_type": "stream",
     "text": [
      "Python is awesome\n",
      "15\n"
     ]
    }
   ],
   "source": [
    "x = \"Python \"\n",
    "y = \"is \"\n",
    "z = \"awesome\"\n",
    "print(x + y + z)\n",
    "\n",
    "x = 5\n",
    "y = 10\n",
    "print(x + y)"
   ]
  },
  {
   "cell_type": "code",
   "execution_count": 24,
   "id": "c2f0031f-8664-4b5e-8fb1-8437595b2e24",
   "metadata": {},
   "outputs": [
    {
     "name": "stdout",
     "output_type": "stream",
     "text": [
      "Python is awesome\n",
      "Python is awesome\n"
     ]
    }
   ],
   "source": [
    "# Variables that are created outside of a function (as in all of the examples in the previous pages) are known as global variables.\n",
    "# Global variables can be used by everyone, both inside of functions and outside.\n",
    "\n",
    "x = \"awesome\"\n",
    "def myfunc():\n",
    "  print(\"Python is \" + x)\n",
    "myfunc()\n",
    "print(\"Python is \" + x)"
   ]
  },
  {
   "cell_type": "code",
   "execution_count": 27,
   "id": "0b1ef217-3922-4e40-8f5b-cef0cffaa6d4",
   "metadata": {},
   "outputs": [
    {
     "name": "stdout",
     "output_type": "stream",
     "text": [
      "Python is fantastic\n"
     ]
    }
   ],
   "source": [
    "# Normally, when you create a variable inside a function, that variable is local, and can only be used inside that function.\n",
    "# To create a global variable inside a function, you can use the global keyword.\n",
    "\n",
    "def myfunc():\n",
    "  global x\n",
    "  x = \"fantastic\"\n",
    "myfunc()\n",
    "print(\"Python is \" + x)"
   ]
  },
  {
   "cell_type": "markdown",
   "id": "c81e6177-6dea-4cc8-850e-8a5c02323037",
   "metadata": {
    "editable": false,
    "slideshow": {
     "slide_type": ""
    },
    "tags": []
   },
   "source": [
    "# Built-in Data Types\n",
    "\n",
    "| type | keyword |\n",
    "|:---:|:---:|\n",
    "| Text Type |\tstr\n",
    "| Numeric Types |\tint, float, complex |\n",
    "| Sequence Types |\tlist, tuple, range |\n",
    "| Mapping Type |\tdict |\n",
    "| Set Types |\tset, frozenset |\n",
    "| Boolean Type |\tbool |\n",
    "| Binary Types |\tbytes, bytearray, memoryview |\n",
    "| None Type |\tNoneType |"
   ]
  },
  {
   "cell_type": "code",
   "execution_count": 37,
   "id": "d4c8d817-64be-49fa-8c14-a73326f47be7",
   "metadata": {},
   "outputs": [
    {
     "name": "stdout",
     "output_type": "stream",
     "text": [
      "['apple', 'banana', 'cherry']\n",
      "('apple', 'banana', 'cherry')\n",
      "range(0, 6)\n",
      "<class 'range'>\n",
      "False\n"
     ]
    }
   ],
   "source": [
    "x = list((\"apple\", \"banana\", \"cherry\"))\n",
    "print(x)\n",
    "x = tuple((\"apple\", \"banana\", \"cherry\"))\n",
    "print(x)\n",
    "x = range(6)\n",
    "print(x)\n",
    "print(type(x))\n",
    "print(type(x)=='<class int>')"
   ]
  },
  {
   "cell_type": "code",
   "execution_count": 40,
   "id": "7c862061-873d-45c5-9082-f2c855a5e064",
   "metadata": {},
   "outputs": [
    {
     "name": "stdout",
     "output_type": "stream",
     "text": [
      "Lorem ipsum dolor sit amet,\n",
      "consectetur adipiscing elit,\n",
      "sed do eiusmod tempor incididunt\n",
      "ut labore et dolore magna aliqua.\n"
     ]
    }
   ],
   "source": [
    "# Multiline Strings\n",
    "# You can assign a multiline string to a variable by using three quotes, Or three single quotes:\n",
    "\n",
    "a = \"\"\"Lorem ipsum dolor sit amet,\n",
    "consectetur adipiscing elit,\n",
    "sed do eiusmod tempor incididunt\n",
    "ut labore et dolore magna aliqua.\"\"\"\n",
    "print(a)"
   ]
  },
  {
   "cell_type": "code",
   "execution_count": 42,
   "id": "f262d606-49e7-43ee-ad69-1cb7f642e14f",
   "metadata": {},
   "outputs": [
    {
     "name": "stdout",
     "output_type": "stream",
     "text": [
      "b\n",
      "a\n",
      "n\n",
      "a\n",
      "n\n",
      "a\n"
     ]
    }
   ],
   "source": [
    "# Strings are Arrays\n",
    "\n",
    "for x in \"banana\":\n",
    "  print(x)"
   ]
  },
  {
   "cell_type": "code",
   "execution_count": 44,
   "id": "ea64a32f-cb96-46db-8d57-e3726eecb183",
   "metadata": {},
   "outputs": [
    {
     "name": "stdout",
     "output_type": "stream",
     "text": [
      "Yes, 'free' is present.\n",
      "No, 'expensive' is NOT present.\n"
     ]
    }
   ],
   "source": [
    "txt = \"The best things in life are free!\"\n",
    "if \"free\" in txt:\n",
    "  print(\"Yes, 'free' is present.\")\n",
    "\n",
    "if \"expensive\" not in txt:\n",
    "  print(\"No, 'expensive' is NOT present.\")"
   ]
  },
  {
   "cell_type": "code",
   "execution_count": 48,
   "id": "3f4f6afe-b490-4e5f-a194-ab51f0e60eff",
   "metadata": {},
   "outputs": [
    {
     "name": "stdout",
     "output_type": "stream",
     "text": [
      "orl\n",
      "<class 'str'>\n"
     ]
    }
   ],
   "source": [
    "b = \"Hello, World!\"\n",
    "print(b[-5:-2])\n",
    "print(type(b))"
   ]
  },
  {
   "cell_type": "code",
   "execution_count": 53,
   "id": "e23f3768-353b-4a1c-aff7-7b804b7d74a9",
   "metadata": {},
   "outputs": [
    {
     "name": "stdout",
     "output_type": "stream",
     "text": [
      "My name is John, I am 36\n",
      "The price is 59.00 dollars\n",
      "The price is 1180.00 dollars\n"
     ]
    }
   ],
   "source": [
    "# F-String was introduced in Python 3.6, and is now the preferred way of formatting strings.\n",
    "# To specify a string as an f-string, simply put an f in front of the string literal, and add curly brackets {} as placeholders for variables and other operations.\n",
    "\n",
    "age = 36\n",
    "txt = f\"My name is John, I am {age}\"\n",
    "print(txt)\n",
    "\n",
    "# A modifier is included by adding a colon : followed by a legal formatting type, like .2f which means fixed point number with 2 decimals:\n",
    "price = 59\n",
    "txt = f\"The price is {price:.2f} dollars\"\n",
    "print(txt)\n",
    "\n",
    "# Perform a math operation in the placeholder, and return the result:\n",
    "txt = f\"The price is {20 * 59:.2f} dollars\"\n",
    "print(txt)"
   ]
  },
  {
   "cell_type": "markdown",
   "id": "80680853-bc4e-4de5-b9fb-b031de19dbd5",
   "metadata": {},
   "source": [
    "## python string [methods](https://www.w3schools.com/python/python_strings_methods.asp)"
   ]
  },
  {
   "cell_type": "code",
   "execution_count": 57,
   "id": "0ac2c4b9-6b6c-4cfb-858c-58ff3e4649db",
   "metadata": {},
   "outputs": [
    {
     "name": "stdout",
     "output_type": "stream",
     "text": [
      "False\n",
      "False\n",
      "False\n",
      "False\n",
      "False\n",
      "False\n",
      "False\n"
     ]
    }
   ],
   "source": [
    "print(bool(False));\n",
    "print(bool(None));\n",
    "print(bool(0));\n",
    "print(bool(\"\"));\n",
    "print(bool(()));\n",
    "print(bool([]));\n",
    "print(bool({}));"
   ]
  },
  {
   "cell_type": "markdown",
   "id": "bb1f87d4-3855-4a67-ac01-3ba6888fc999",
   "metadata": {},
   "source": [
    "# Python Collections (Arrays)\n",
    "\n",
    "There are four collection data types in the Python programming language:  \n",
    "\n",
    "**List** is a collection which is ordered and changeable. Allows duplicate members.  \n",
    "**Tuple** is a collection which is ordered and unchangeable. Allows duplicate members.  \n",
    "**Set** is a collection which is unordered, unchangeable*, and unindexed. No duplicate members.  \n",
    "**Dictionary** is a collection which is ordered** and changeable. No duplicate members.  "
   ]
  },
  {
   "cell_type": "markdown",
   "id": "b1822837-ed4e-44f1-8583-56c815eacfb9",
   "metadata": {},
   "source": [
    "# classes"
   ]
  },
  {
   "cell_type": "code",
   "execution_count": 62,
   "id": "8eaae0d0-9af5-4c04-843a-dbadf81db5b9",
   "metadata": {
    "editable": true,
    "slideshow": {
     "slide_type": ""
    },
    "tags": []
   },
   "outputs": [
    {
     "name": "stdout",
     "output_type": "stream",
     "text": [
      "John\n",
      "36\n",
      "class Person: John(36)\n"
     ]
    }
   ],
   "source": [
    "class Person:\n",
    "  def __init__(self, name, age):\n",
    "    self.name = name\n",
    "    self.age = age\n",
    "\n",
    "  def __str__(self):\n",
    "    return f\"class Person: {self.name}({self.age})\"\n",
    "\n",
    "p1 = Person(\"John\", 36)\n",
    "\n",
    "print(p1.name)\n",
    "print(p1.age)\n",
    "\n",
    "print(p1)"
   ]
  },
  {
   "cell_type": "markdown",
   "id": "af494601-8199-4304-9b5c-6f0f15e3f094",
   "metadata": {},
   "source": [
    "# [string format](https://www.w3schools.com/python/python_string_formatting.asp)"
   ]
  }
 ],
 "metadata": {
  "kernelspec": {
   "display_name": "Python 3 (ipykernel)",
   "language": "python",
   "name": "python3"
  },
  "language_info": {
   "codemirror_mode": {
    "name": "ipython",
    "version": 3
   },
   "file_extension": ".py",
   "mimetype": "text/x-python",
   "name": "python",
   "nbconvert_exporter": "python",
   "pygments_lexer": "ipython3",
   "version": "3.12.2"
  }
 },
 "nbformat": 4,
 "nbformat_minor": 5
}
